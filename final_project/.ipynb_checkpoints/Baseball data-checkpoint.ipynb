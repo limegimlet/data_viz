{
 "cells": [
  {
   "cell_type": "code",
   "execution_count": 115,
   "metadata": {},
   "outputs": [],
   "source": [
    "import pandas as pd\n",
    "import matplotlib as plt\n",
    "import seaborn as sns\n",
    "sns.set()\n",
    "%matplotlib inline"
   ]
  },
  {
   "cell_type": "markdown",
   "metadata": {},
   "source": [
    "## About the data\n",
    "\n",
    "A data set containing 1,157 baseball players including their handedness (right or left handed), height (in inches), weight (in pounds), batting average, and home runs.\n",
    "\n",
    "## Resources\n",
    "\n",
    "* Permutations of an array in js: https://stackoverflow.com/questions/37579994/generate-permutations-of-javascript-array\n",
    "* add data to series instead of chart: https://stackoverflow.com/questions/21387378/multiple-series-in-dimple-js-with-user-selecting-data-for-y1-and-y2-axis\n",
    "* bug with negative values in mouseover: https://github.com/PMSI-AlignAlytics/dimple/issues/204\n",
    "\n",
    "## Assignment\n",
    "Create a visualization that shows differences among the performance of the baseball players."
   ]
  },
  {
   "cell_type": "code",
   "execution_count": 116,
   "metadata": {},
   "outputs": [
    {
     "data": {
      "text/html": [
       "<div>\n",
       "<style scoped>\n",
       "    .dataframe tbody tr th:only-of-type {\n",
       "        vertical-align: middle;\n",
       "    }\n",
       "\n",
       "    .dataframe tbody tr th {\n",
       "        vertical-align: top;\n",
       "    }\n",
       "\n",
       "    .dataframe thead th {\n",
       "        text-align: right;\n",
       "    }\n",
       "</style>\n",
       "<table border=\"1\" class=\"dataframe\">\n",
       "  <thead>\n",
       "    <tr style=\"text-align: right;\">\n",
       "      <th></th>\n",
       "      <th>name</th>\n",
       "      <th>handedness</th>\n",
       "      <th>height</th>\n",
       "      <th>weight</th>\n",
       "      <th>avg</th>\n",
       "      <th>HR</th>\n",
       "      <th>count</th>\n",
       "    </tr>\n",
       "  </thead>\n",
       "  <tbody>\n",
       "    <tr>\n",
       "      <th>0</th>\n",
       "      <td>Tom Brown</td>\n",
       "      <td>R</td>\n",
       "      <td>73</td>\n",
       "      <td>170</td>\n",
       "      <td>0.000</td>\n",
       "      <td>0</td>\n",
       "      <td>737</td>\n",
       "    </tr>\n",
       "    <tr>\n",
       "      <th>1</th>\n",
       "      <td>Denny Lemaster</td>\n",
       "      <td>R</td>\n",
       "      <td>73</td>\n",
       "      <td>182</td>\n",
       "      <td>0.130</td>\n",
       "      <td>4</td>\n",
       "      <td>737</td>\n",
       "    </tr>\n",
       "    <tr>\n",
       "      <th>2</th>\n",
       "      <td>Jose Cardenal</td>\n",
       "      <td>R</td>\n",
       "      <td>70</td>\n",
       "      <td>150</td>\n",
       "      <td>0.275</td>\n",
       "      <td>138</td>\n",
       "      <td>737</td>\n",
       "    </tr>\n",
       "    <tr>\n",
       "      <th>3</th>\n",
       "      <td>Mike Ryan</td>\n",
       "      <td>R</td>\n",
       "      <td>74</td>\n",
       "      <td>205</td>\n",
       "      <td>0.193</td>\n",
       "      <td>28</td>\n",
       "      <td>737</td>\n",
       "    </tr>\n",
       "    <tr>\n",
       "      <th>4</th>\n",
       "      <td>Dick Bertell</td>\n",
       "      <td>R</td>\n",
       "      <td>72</td>\n",
       "      <td>200</td>\n",
       "      <td>0.250</td>\n",
       "      <td>10</td>\n",
       "      <td>737</td>\n",
       "    </tr>\n",
       "  </tbody>\n",
       "</table>\n",
       "</div>"
      ],
      "text/plain": [
       "             name handedness  height  weight    avg   HR  count\n",
       "0       Tom Brown          R      73     170  0.000    0    737\n",
       "1  Denny Lemaster          R      73     182  0.130    4    737\n",
       "2   Jose Cardenal          R      70     150  0.275  138    737\n",
       "3       Mike Ryan          R      74     205  0.193   28    737\n",
       "4    Dick Bertell          R      72     200  0.250   10    737"
      ]
     },
     "execution_count": 116,
     "metadata": {},
     "output_type": "execute_result"
    }
   ],
   "source": [
    "df = pd.read_csv(\"data/baseball_data.csv\")\n",
    "df.head()"
   ]
  },
  {
   "cell_type": "code",
   "execution_count": 4,
   "metadata": {},
   "outputs": [],
   "source": [
    "df.to_csv(\"data/baseball_data2.csv\", index=False)"
   ]
  },
  {
   "cell_type": "code",
   "execution_count": 117,
   "metadata": {},
   "outputs": [
    {
     "data": {
      "text/html": [
       "<div>\n",
       "<style scoped>\n",
       "    .dataframe tbody tr th:only-of-type {\n",
       "        vertical-align: middle;\n",
       "    }\n",
       "\n",
       "    .dataframe tbody tr th {\n",
       "        vertical-align: top;\n",
       "    }\n",
       "\n",
       "    .dataframe thead th {\n",
       "        text-align: right;\n",
       "    }\n",
       "</style>\n",
       "<table border=\"1\" class=\"dataframe\">\n",
       "  <thead>\n",
       "    <tr style=\"text-align: right;\">\n",
       "      <th></th>\n",
       "      <th>height</th>\n",
       "      <th>weight</th>\n",
       "      <th>avg</th>\n",
       "      <th>HR</th>\n",
       "      <th>count</th>\n",
       "    </tr>\n",
       "  </thead>\n",
       "  <tbody>\n",
       "    <tr>\n",
       "      <th>count</th>\n",
       "      <td>1157.000000</td>\n",
       "      <td>1157.000000</td>\n",
       "      <td>1157.000000</td>\n",
       "      <td>1157.000000</td>\n",
       "      <td>1157.000000</td>\n",
       "    </tr>\n",
       "    <tr>\n",
       "      <th>mean</th>\n",
       "      <td>72.756266</td>\n",
       "      <td>184.513397</td>\n",
       "      <td>0.186793</td>\n",
       "      <td>45.359551</td>\n",
       "      <td>565.117545</td>\n",
       "    </tr>\n",
       "    <tr>\n",
       "      <th>std</th>\n",
       "      <td>2.142272</td>\n",
       "      <td>15.445995</td>\n",
       "      <td>0.106175</td>\n",
       "      <td>74.065110</td>\n",
       "      <td>234.369308</td>\n",
       "    </tr>\n",
       "    <tr>\n",
       "      <th>min</th>\n",
       "      <td>65.000000</td>\n",
       "      <td>140.000000</td>\n",
       "      <td>0.000000</td>\n",
       "      <td>0.000000</td>\n",
       "      <td>104.000000</td>\n",
       "    </tr>\n",
       "    <tr>\n",
       "      <th>25%</th>\n",
       "      <td>71.000000</td>\n",
       "      <td>175.000000</td>\n",
       "      <td>0.138000</td>\n",
       "      <td>1.000000</td>\n",
       "      <td>316.000000</td>\n",
       "    </tr>\n",
       "    <tr>\n",
       "      <th>50%</th>\n",
       "      <td>73.000000</td>\n",
       "      <td>185.000000</td>\n",
       "      <td>0.238000</td>\n",
       "      <td>15.000000</td>\n",
       "      <td>737.000000</td>\n",
       "    </tr>\n",
       "    <tr>\n",
       "      <th>75%</th>\n",
       "      <td>74.000000</td>\n",
       "      <td>195.000000</td>\n",
       "      <td>0.258000</td>\n",
       "      <td>55.000000</td>\n",
       "      <td>737.000000</td>\n",
       "    </tr>\n",
       "    <tr>\n",
       "      <th>max</th>\n",
       "      <td>80.000000</td>\n",
       "      <td>245.000000</td>\n",
       "      <td>0.328000</td>\n",
       "      <td>563.000000</td>\n",
       "      <td>737.000000</td>\n",
       "    </tr>\n",
       "  </tbody>\n",
       "</table>\n",
       "</div>"
      ],
      "text/plain": [
       "            height       weight          avg           HR        count\n",
       "count  1157.000000  1157.000000  1157.000000  1157.000000  1157.000000\n",
       "mean     72.756266   184.513397     0.186793    45.359551   565.117545\n",
       "std       2.142272    15.445995     0.106175    74.065110   234.369308\n",
       "min      65.000000   140.000000     0.000000     0.000000   104.000000\n",
       "25%      71.000000   175.000000     0.138000     1.000000   316.000000\n",
       "50%      73.000000   185.000000     0.238000    15.000000   737.000000\n",
       "75%      74.000000   195.000000     0.258000    55.000000   737.000000\n",
       "max      80.000000   245.000000     0.328000   563.000000   737.000000"
      ]
     },
     "execution_count": 117,
     "metadata": {},
     "output_type": "execute_result"
    }
   ],
   "source": [
    "df.describe()"
   ]
  },
  {
   "cell_type": "code",
   "execution_count": 118,
   "metadata": {},
   "outputs": [
    {
     "data": {
      "text/plain": [
       "array([[<matplotlib.axes._subplots.AxesSubplot object at 0x1147bc910>,\n",
       "        <matplotlib.axes._subplots.AxesSubplot object at 0x116832990>],\n",
       "       [<matplotlib.axes._subplots.AxesSubplot object at 0x1168eb190>,\n",
       "        <matplotlib.axes._subplots.AxesSubplot object at 0x1157b6a50>],\n",
       "       [<matplotlib.axes._subplots.AxesSubplot object at 0x1165807d0>,\n",
       "        <matplotlib.axes._subplots.AxesSubplot object at 0x1167df190>]],\n",
       "      dtype=object)"
      ]
     },
     "execution_count": 118,
     "metadata": {},
     "output_type": "execute_result"
    },
    {
     "data": {
      "image/png": "[encoded data removed]",
      "text/plain": [
       "<matplotlib.figure.Figure at 0x115043210>"
      ]
     },
     "metadata": {},
     "output_type": "display_data"
    }
   ],
   "source": [
    "df.hist()"
   ]
  },
  {
   "cell_type": "code",
   "execution_count": 106,
   "metadata": {},
   "outputs": [
    {
     "data": {
      "text/html": [
       "<div>\n",
       "<style scoped>\n",
       "    .dataframe tbody tr th:only-of-type {\n",
       "        vertical-align: middle;\n",
       "    }\n",
       "\n",
       "    .dataframe tbody tr th {\n",
       "        vertical-align: top;\n",
       "    }\n",
       "\n",
       "    .dataframe thead th {\n",
       "        text-align: right;\n",
       "    }\n",
       "</style>\n",
       "<table border=\"1\" class=\"dataframe\">\n",
       "  <thead>\n",
       "    <tr style=\"text-align: right;\">\n",
       "      <th></th>\n",
       "      <th>height</th>\n",
       "      <th>weight</th>\n",
       "      <th>avg</th>\n",
       "      <th>HR</th>\n",
       "      <th>count</th>\n",
       "    </tr>\n",
       "    <tr>\n",
       "      <th>handedness</th>\n",
       "      <th></th>\n",
       "      <th></th>\n",
       "      <th></th>\n",
       "      <th></th>\n",
       "      <th></th>\n",
       "    </tr>\n",
       "  </thead>\n",
       "  <tbody>\n",
       "    <tr>\n",
       "      <th>B</th>\n",
       "      <td>72.0</td>\n",
       "      <td>180.0</td>\n",
       "      <td>0.2405</td>\n",
       "      <td>13.0</td>\n",
       "      <td>104.0</td>\n",
       "    </tr>\n",
       "    <tr>\n",
       "      <th>L</th>\n",
       "      <td>73.0</td>\n",
       "      <td>185.0</td>\n",
       "      <td>0.2480</td>\n",
       "      <td>23.5</td>\n",
       "      <td>316.0</td>\n",
       "    </tr>\n",
       "    <tr>\n",
       "      <th>R</th>\n",
       "      <td>73.0</td>\n",
       "      <td>185.0</td>\n",
       "      <td>0.2330</td>\n",
       "      <td>14.0</td>\n",
       "      <td>737.0</td>\n",
       "    </tr>\n",
       "  </tbody>\n",
       "</table>\n",
       "</div>"
      ],
      "text/plain": [
       "            height  weight     avg    HR  count\n",
       "handedness                                     \n",
       "B             72.0   180.0  0.2405  13.0  104.0\n",
       "L             73.0   185.0  0.2480  23.5  316.0\n",
       "R             73.0   185.0  0.2330  14.0  737.0"
      ]
     },
     "execution_count": 106,
     "metadata": {},
     "output_type": "execute_result"
    }
   ],
   "source": [
    "df.groupby('handedness').median()"
   ]
  },
  {
   "cell_type": "code",
   "execution_count": null,
   "metadata": {},
   "outputs": [],
   "source": [
    "df.groupby('handedness').median()['avg'].T.plot(kind='bar');"
   ]
  },
  {
   "cell_type": "markdown",
   "metadata": {},
   "source": [
    "So the biggest story is that left-handed players as a group score more home-runs.\n",
    "\n",
    "But are there some outliers that are behind this difference?"
   ]
  },
  {
   "cell_type": "code",
   "execution_count": null,
   "metadata": {},
   "outputs": [],
   "source": [
    "df[['HR', 'handedness']].hist(by = 'handedness', sharex = True, bins = 40);"
   ]
  },
  {
   "cell_type": "markdown",
   "metadata": {},
   "source": [
    "## Boxplots"
   ]
  },
  {
   "cell_type": "code",
   "execution_count": null,
   "metadata": {},
   "outputs": [],
   "source": [
    "# were there really extreme outliers for the left-handers?\n",
    "\n",
    "sns.boxplot(x=\"handedness\", y=\"HR\", data=df);"
   ]
  },
  {
   "cell_type": "markdown",
   "metadata": {},
   "source": [
    "Nope. it's the opposite, it's the R-group that has more extreme outliers, as well as more outliers in general."
   ]
  },
  {
   "cell_type": "code",
   "execution_count": null,
   "metadata": {},
   "outputs": [],
   "source": [
    "# look at boxes only\n",
    "sns.boxplot(x=\"handedness\", y=\"HR\", data=df, showfliers = False);"
   ]
  },
  {
   "cell_type": "code",
   "execution_count": null,
   "metadata": {},
   "outputs": [],
   "source": [
    "# did these groups differ as much for other variables?\n",
    "\n",
    "sns.boxplot(x=\"handedness\", y=\"avg\", data=df);"
   ]
  },
  {
   "cell_type": "markdown",
   "metadata": {},
   "source": [
    "Yes. R-handers seem to strikeout out more often, judging by their lower batting averages."
   ]
  },
  {
   "cell_type": "markdown",
   "metadata": {},
   "source": [
    "Lots of .000 batting avegages for right-handers."
   ]
  },
  {
   "cell_type": "code",
   "execution_count": null,
   "metadata": {},
   "outputs": [],
   "source": [
    "# any differences in height?\n",
    "\n",
    "sns.boxplot(x=\"handedness\", y=\"height\",data=df);"
   ]
  },
  {
   "cell_type": "code",
   "execution_count": null,
   "metadata": {},
   "outputs": [],
   "source": [
    "# what about weight?\n",
    "sns.boxplot(x=\"handedness\", y=\"weight\",data=df);"
   ]
  },
  {
   "cell_type": "markdown",
   "metadata": {},
   "source": [
    "## sketch it out"
   ]
  },
  {
   "cell_type": "code",
   "execution_count": null,
   "metadata": {},
   "outputs": [],
   "source": [
    "df.groupby('handedness')['HR'].plot(kind='kde', alpha = 0.5);"
   ]
  },
  {
   "cell_type": "code",
   "execution_count": null,
   "metadata": {},
   "outputs": [],
   "source": [
    "# \n",
    "df.groupby('handedness').median().T.plot(kind='bar');"
   ]
  },
  {
   "cell_type": "code",
   "execution_count": null,
   "metadata": {},
   "outputs": [],
   "source": [
    "# use log y axis so that avg shows up\n",
    "df.groupby('handedness').median().T.plot(kind='bar', log=True);"
   ]
  },
  {
   "cell_type": "code",
   "execution_count": null,
   "metadata": {},
   "outputs": [],
   "source": [
    " \n",
    "sns.lmplot( x=\"avg\", y=\"HR\", data=df, fit_reg=True, \n",
    "           hue='handedness', palette=\"Set1\");\n"
   ]
  },
  {
   "cell_type": "code",
   "execution_count": null,
   "metadata": {},
   "outputs": [],
   "source": [
    "sns.lmplot( x=\"height\", y=\"HR\", data=df, fit_reg=True, \n",
    "           hue='handedness', palette=\"Set1\");"
   ]
  },
  {
   "cell_type": "code",
   "execution_count": null,
   "metadata": {},
   "outputs": [],
   "source": [
    "sns.lmplot( x=\"weight\", y=\"HR\", data=df, fit_reg=True, \n",
    "           hue='handedness', palette=\"Set1\");"
   ]
  },
  {
   "cell_type": "code",
   "execution_count": 28,
   "metadata": {},
   "outputs": [],
   "source": [
    "# z-score whole df\n",
    "import numpy as np\n",
    "def zscore(df):\n",
    "    df_z = df.select_dtypes('number')\n",
    "    df_z = (df_z-df_z.mean())/df_z.std()\n",
    "    df_z = pd.concat([df.select_dtypes('object'), df_z], axis=1)\n",
    "    return df_z\n",
    "    "
   ]
  },
  {
   "cell_type": "code",
   "execution_count": 61,
   "metadata": {},
   "outputs": [
    {
     "data": {
      "text/html": [
       "<div>\n",
       "<style scoped>\n",
       "    .dataframe tbody tr th:only-of-type {\n",
       "        vertical-align: middle;\n",
       "    }\n",
       "\n",
       "    .dataframe tbody tr th {\n",
       "        vertical-align: top;\n",
       "    }\n",
       "\n",
       "    .dataframe thead th {\n",
       "        text-align: right;\n",
       "    }\n",
       "</style>\n",
       "<table border=\"1\" class=\"dataframe\">\n",
       "  <thead>\n",
       "    <tr style=\"text-align: right;\">\n",
       "      <th></th>\n",
       "      <th>height</th>\n",
       "      <th>weight</th>\n",
       "      <th>avg</th>\n",
       "      <th>HR</th>\n",
       "    </tr>\n",
       "    <tr>\n",
       "      <th>handedness</th>\n",
       "      <th></th>\n",
       "      <th></th>\n",
       "      <th></th>\n",
       "      <th></th>\n",
       "    </tr>\n",
       "  </thead>\n",
       "  <tbody>\n",
       "    <tr>\n",
       "      <th>B</th>\n",
       "      <td>-0.344044</td>\n",
       "      <td>-0.457172</td>\n",
       "      <td>0.171929</td>\n",
       "      <td>-0.178428</td>\n",
       "    </tr>\n",
       "    <tr>\n",
       "      <th>L</th>\n",
       "      <td>-0.019174</td>\n",
       "      <td>0.039904</td>\n",
       "      <td>0.166886</td>\n",
       "      <td>0.145672</td>\n",
       "    </tr>\n",
       "    <tr>\n",
       "      <th>R</th>\n",
       "      <td>0.056770</td>\n",
       "      <td>0.047403</td>\n",
       "      <td>-0.095816</td>\n",
       "      <td>-0.037280</td>\n",
       "    </tr>\n",
       "  </tbody>\n",
       "</table>\n",
       "</div>"
      ],
      "text/plain": [
       "              height    weight       avg        HR\n",
       "handedness                                        \n",
       "B          -0.344044 -0.457172  0.171929 -0.178428\n",
       "L          -0.019174  0.039904  0.166886  0.145672\n",
       "R           0.056770  0.047403 -0.095816 -0.037280"
      ]
     },
     "execution_count": 61,
     "metadata": {},
     "output_type": "execute_result"
    }
   ],
   "source": [
    "df_z = zscore(df)\n",
    "df_z.groupby('handedness').mean()"
   ]
  },
  {
   "cell_type": "code",
   "execution_count": null,
   "metadata": {},
   "outputs": [],
   "source": [
    "# save to csv\n",
    "df_z.to_csv(\"data/baseball_data_norm.csv\", index=False)"
   ]
  },
  {
   "cell_type": "code",
   "execution_count": null,
   "metadata": {},
   "outputs": [],
   "source": [
    "sns.lmplot( x=\"avg\", y=\"HR\", data=df_z.reset_index(), fit_reg=False, \n",
    "           hue='handedness', palette=\"Set1\");\n"
   ]
  },
  {
   "cell_type": "code",
   "execution_count": null,
   "metadata": {},
   "outputs": [],
   "source": [
    "df_means = df.groupby('handedness').mean()\n",
    "df_means_z = (df_means-df_means.mean())/df_means.std()\n",
    "df_means_z"
   ]
  },
  {
   "cell_type": "code",
   "execution_count": null,
   "metadata": {},
   "outputs": [],
   "source": [
    "sizes = df_means_z['HR/avg'].astype(int)\n",
    "df_means_z.plot.scatter(x = 'avg', y='HR', legend=True);"
   ]
  },
  {
   "cell_type": "code",
   "execution_count": null,
   "metadata": {},
   "outputs": [],
   "source": [
    "df_means_z.plot.scatter(x = 'weight', y='height', legend=True);"
   ]
  },
  {
   "cell_type": "code",
   "execution_count": null,
   "metadata": {},
   "outputs": [],
   "source": [
    "sns.lmplot( x=\"avg\", y=\"HR\", data=df_means.reset_index(), fit_reg=False, \n",
    "           hue='handedness', palette=\"Set1\");\n"
   ]
  },
  {
   "cell_type": "code",
   "execution_count": null,
   "metadata": {},
   "outputs": [],
   "source": [
    "sns.lmplot( x=\"height\", y=\"HR\", data=df_means.reset_index(), fit_reg=False, \n",
    "           hue='handedness', palette=\"Set1\");"
   ]
  },
  {
   "cell_type": "markdown",
   "metadata": {},
   "source": [
    "## Stats"
   ]
  },
  {
   "cell_type": "code",
   "execution_count": null,
   "metadata": {},
   "outputs": [],
   "source": [
    "# compare the stats\n",
    "val = 'handedness'\n",
    "df.groupby(val)['HR'].describe()"
   ]
  },
  {
   "cell_type": "code",
   "execution_count": null,
   "metadata": {},
   "outputs": [],
   "source": [
    "df.corr()"
   ]
  },
  {
   "cell_type": "code",
   "execution_count": null,
   "metadata": {},
   "outputs": [],
   "source": [
    "df.groupby('handedness').corr()['HR']"
   ]
  },
  {
   "cell_type": "code",
   "execution_count": null,
   "metadata": {},
   "outputs": [],
   "source": [
    "# what about HR/avg?\n",
    "\n",
    "df['HR/avg'] = df['HR'].divide(df['avg'])"
   ]
  },
  {
   "cell_type": "code",
   "execution_count": null,
   "metadata": {},
   "outputs": [],
   "source": [
    "df.groupby('handedness').mean()['HR/avg'].plot(kind='bar')"
   ]
  },
  {
   "cell_type": "code",
   "execution_count": null,
   "metadata": {},
   "outputs": [],
   "source": [
    "df.groupby('handedness').median().plot(\n",
    "    kind='bar', figsize=(4,8), \n",
    "    title=col, subplots=True, legend = False);"
   ]
  },
  {
   "cell_type": "markdown",
   "metadata": {},
   "source": [
    "Nope. In fact, looks like the R. is more likely to have an extreme outlier."
   ]
  },
  {
   "cell_type": "code",
   "execution_count": null,
   "metadata": {},
   "outputs": [],
   "source": [
    "df['name'\n",
    "\n",
    "#.pivot(columns='handedness', values = 'HR')"
   ]
  },
  {
   "cell_type": "code",
   "execution_count": null,
   "metadata": {},
   "outputs": [],
   "source": [
    "df.plot(kind='box', subplots=True);"
   ]
  },
  {
   "cell_type": "code",
   "execution_count": null,
   "metadata": {},
   "outputs": [],
   "source": [
    "df.corr()"
   ]
  },
  {
   "cell_type": "code",
   "execution_count": null,
   "metadata": {},
   "outputs": [],
   "source": [
    "df.groupby('handedness').corr()"
   ]
  },
  {
   "cell_type": "code",
   "execution_count": null,
   "metadata": {},
   "outputs": [],
   "source": [
    "val = 'handedness'\n",
    "pp = sns.pairplot(df, hue = val, kind='reg', diag_kind='kde');\n",
    "pp"
   ]
  },
  {
   "cell_type": "code",
   "execution_count": null,
   "metadata": {},
   "outputs": [],
   "source": [
    "\n",
    "    "
   ]
  },
  {
   "cell_type": "markdown",
   "metadata": {},
   "source": [
    "## Convert to  Long format"
   ]
  },
  {
   "cell_type": "code",
   "execution_count": 65,
   "metadata": {},
   "outputs": [
    {
     "data": {
      "text/html": [
       "<div>\n",
       "<style scoped>\n",
       "    .dataframe tbody tr th:only-of-type {\n",
       "        vertical-align: middle;\n",
       "    }\n",
       "\n",
       "    .dataframe tbody tr th {\n",
       "        vertical-align: top;\n",
       "    }\n",
       "\n",
       "    .dataframe thead th {\n",
       "        text-align: right;\n",
       "    }\n",
       "</style>\n",
       "<table border=\"1\" class=\"dataframe\">\n",
       "  <thead>\n",
       "    <tr style=\"text-align: right;\">\n",
       "      <th></th>\n",
       "      <th>name</th>\n",
       "      <th>handedness</th>\n",
       "      <th>attribute</th>\n",
       "      <th>value</th>\n",
       "    </tr>\n",
       "  </thead>\n",
       "  <tbody>\n",
       "    <tr>\n",
       "      <th>4623</th>\n",
       "      <td>Gary Lance</td>\n",
       "      <td>B</td>\n",
       "      <td>HR</td>\n",
       "      <td>0.0</td>\n",
       "    </tr>\n",
       "    <tr>\n",
       "      <th>4624</th>\n",
       "      <td>Tom O'Malley</td>\n",
       "      <td>L</td>\n",
       "      <td>HR</td>\n",
       "      <td>13.0</td>\n",
       "    </tr>\n",
       "    <tr>\n",
       "      <th>4625</th>\n",
       "      <td>Phil Garner</td>\n",
       "      <td>R</td>\n",
       "      <td>HR</td>\n",
       "      <td>109.0</td>\n",
       "    </tr>\n",
       "    <tr>\n",
       "      <th>4626</th>\n",
       "      <td>Larry Pashnick</td>\n",
       "      <td>R</td>\n",
       "      <td>HR</td>\n",
       "      <td>0.0</td>\n",
       "    </tr>\n",
       "    <tr>\n",
       "      <th>4627</th>\n",
       "      <td>Todd Fischer</td>\n",
       "      <td>R</td>\n",
       "      <td>HR</td>\n",
       "      <td>0.0</td>\n",
       "    </tr>\n",
       "  </tbody>\n",
       "</table>\n",
       "</div>"
      ],
      "text/plain": [
       "                name handedness attribute  value\n",
       "4623      Gary Lance          B        HR    0.0\n",
       "4624    Tom O'Malley          L        HR   13.0\n",
       "4625     Phil Garner          R        HR  109.0\n",
       "4626  Larry Pashnick          R        HR    0.0\n",
       "4627    Todd Fischer          R        HR    0.0"
      ]
     },
     "execution_count": 65,
     "metadata": {},
     "output_type": "execute_result"
    }
   ],
   "source": [
    "df_long = pd.melt(df, id_vars=['name', 'handedness'],\\\n",
    "               value_vars=['height', 'weight', 'avg', 'HR'],\\\n",
    "               var_name='attribute', value_name='value')\n",
    "\n",
    "df_long.tail()"
   ]
  },
  {
   "cell_type": "code",
   "execution_count": null,
   "metadata": {},
   "outputs": [],
   "source": [
    "test.to_csv('data/baseball_data_long.csv', index=False)"
   ]
  },
  {
   "cell_type": "code",
   "execution_count": 62,
   "metadata": {},
   "outputs": [
    {
     "data": {
      "text/html": [
       "<div>\n",
       "<style scoped>\n",
       "    .dataframe tbody tr th:only-of-type {\n",
       "        vertical-align: middle;\n",
       "    }\n",
       "\n",
       "    .dataframe tbody tr th {\n",
       "        vertical-align: top;\n",
       "    }\n",
       "\n",
       "    .dataframe thead th {\n",
       "        text-align: right;\n",
       "    }\n",
       "</style>\n",
       "<table border=\"1\" class=\"dataframe\">\n",
       "  <thead>\n",
       "    <tr style=\"text-align: right;\">\n",
       "      <th></th>\n",
       "      <th>name</th>\n",
       "      <th>handedness</th>\n",
       "      <th>attribute</th>\n",
       "      <th>value</th>\n",
       "    </tr>\n",
       "  </thead>\n",
       "  <tbody>\n",
       "    <tr>\n",
       "      <th>4623</th>\n",
       "      <td>Gary Lance</td>\n",
       "      <td>B</td>\n",
       "      <td>HR</td>\n",
       "      <td>-0.612428</td>\n",
       "    </tr>\n",
       "    <tr>\n",
       "      <th>4624</th>\n",
       "      <td>Tom O'Malley</td>\n",
       "      <td>L</td>\n",
       "      <td>HR</td>\n",
       "      <td>-0.436907</td>\n",
       "    </tr>\n",
       "    <tr>\n",
       "      <th>4625</th>\n",
       "      <td>Phil Garner</td>\n",
       "      <td>R</td>\n",
       "      <td>HR</td>\n",
       "      <td>0.859250</td>\n",
       "    </tr>\n",
       "    <tr>\n",
       "      <th>4626</th>\n",
       "      <td>Larry Pashnick</td>\n",
       "      <td>R</td>\n",
       "      <td>HR</td>\n",
       "      <td>-0.612428</td>\n",
       "    </tr>\n",
       "    <tr>\n",
       "      <th>4627</th>\n",
       "      <td>Todd Fischer</td>\n",
       "      <td>R</td>\n",
       "      <td>HR</td>\n",
       "      <td>-0.612428</td>\n",
       "    </tr>\n",
       "  </tbody>\n",
       "</table>\n",
       "</div>"
      ],
      "text/plain": [
       "                name handedness attribute     value\n",
       "4623      Gary Lance          B        HR -0.612428\n",
       "4624    Tom O'Malley          L        HR -0.436907\n",
       "4625     Phil Garner          R        HR  0.859250\n",
       "4626  Larry Pashnick          R        HR -0.612428\n",
       "4627    Todd Fischer          R        HR -0.612428"
      ]
     },
     "execution_count": 62,
     "metadata": {},
     "output_type": "execute_result"
    }
   ],
   "source": [
    "df_z_long = pd.melt(df_z, id_vars=['name', 'handedness'],\\\n",
    "               value_vars=['height', 'weight', 'avg', 'HR'],\\\n",
    "               var_name='attribute', value_name='value')\n",
    "\n",
    "df_z_long.tail()"
   ]
  },
  {
   "cell_type": "markdown",
   "metadata": {},
   "source": [
    "### Add counts for each group"
   ]
  },
  {
   "cell_type": "code",
   "execution_count": null,
   "metadata": {},
   "outputs": [],
   "source": [
    "# create counts df\n",
    "counts = pd.DataFrame(df.groupby('handedness')['name'].count())\n",
    "counts.reset_index(inplace=True)\n",
    "\n",
    "counts.rename(columns = {'name':'count'}, inplace=True)"
   ]
  },
  {
   "cell_type": "code",
   "execution_count": 119,
   "metadata": {},
   "outputs": [
    {
     "data": {
      "text/html": [
       "<div>\n",
       "<style scoped>\n",
       "    .dataframe tbody tr th:only-of-type {\n",
       "        vertical-align: middle;\n",
       "    }\n",
       "\n",
       "    .dataframe tbody tr th {\n",
       "        vertical-align: top;\n",
       "    }\n",
       "\n",
       "    .dataframe thead th {\n",
       "        text-align: right;\n",
       "    }\n",
       "</style>\n",
       "<table border=\"1\" class=\"dataframe\">\n",
       "  <thead>\n",
       "    <tr style=\"text-align: right;\">\n",
       "      <th></th>\n",
       "      <th>name</th>\n",
       "      <th>handedness</th>\n",
       "      <th>height</th>\n",
       "      <th>weight</th>\n",
       "      <th>avg</th>\n",
       "      <th>HR</th>\n",
       "      <th>count_x</th>\n",
       "      <th>count_y</th>\n",
       "    </tr>\n",
       "  </thead>\n",
       "  <tbody>\n",
       "    <tr>\n",
       "      <th>0</th>\n",
       "      <td>Tom Brown</td>\n",
       "      <td>R</td>\n",
       "      <td>73</td>\n",
       "      <td>170</td>\n",
       "      <td>0.000</td>\n",
       "      <td>0</td>\n",
       "      <td>737</td>\n",
       "      <td>737</td>\n",
       "    </tr>\n",
       "    <tr>\n",
       "      <th>1</th>\n",
       "      <td>Denny Lemaster</td>\n",
       "      <td>R</td>\n",
       "      <td>73</td>\n",
       "      <td>182</td>\n",
       "      <td>0.130</td>\n",
       "      <td>4</td>\n",
       "      <td>737</td>\n",
       "      <td>737</td>\n",
       "    </tr>\n",
       "    <tr>\n",
       "      <th>2</th>\n",
       "      <td>Jose Cardenal</td>\n",
       "      <td>R</td>\n",
       "      <td>70</td>\n",
       "      <td>150</td>\n",
       "      <td>0.275</td>\n",
       "      <td>138</td>\n",
       "      <td>737</td>\n",
       "      <td>737</td>\n",
       "    </tr>\n",
       "    <tr>\n",
       "      <th>3</th>\n",
       "      <td>Mike Ryan</td>\n",
       "      <td>R</td>\n",
       "      <td>74</td>\n",
       "      <td>205</td>\n",
       "      <td>0.193</td>\n",
       "      <td>28</td>\n",
       "      <td>737</td>\n",
       "      <td>737</td>\n",
       "    </tr>\n",
       "    <tr>\n",
       "      <th>4</th>\n",
       "      <td>Dick Bertell</td>\n",
       "      <td>R</td>\n",
       "      <td>72</td>\n",
       "      <td>200</td>\n",
       "      <td>0.250</td>\n",
       "      <td>10</td>\n",
       "      <td>737</td>\n",
       "      <td>737</td>\n",
       "    </tr>\n",
       "  </tbody>\n",
       "</table>\n",
       "</div>"
      ],
      "text/plain": [
       "             name handedness  height  weight    avg   HR  count_x  count_y\n",
       "0       Tom Brown          R      73     170  0.000    0      737      737\n",
       "1  Denny Lemaster          R      73     182  0.130    4      737      737\n",
       "2   Jose Cardenal          R      70     150  0.275  138      737      737\n",
       "3       Mike Ryan          R      74     205  0.193   28      737      737\n",
       "4    Dick Bertell          R      72     200  0.250   10      737      737"
      ]
     },
     "execution_count": 119,
     "metadata": {},
     "output_type": "execute_result"
    }
   ],
   "source": [
    "# merge with wide df_z\n",
    "df = df.merge(counts, on='handedness')\n",
    "df_z = df_z.merge(counts, on='handedness')\n",
    "df_long = df_long.merge(counts, on='handedness')\n",
    "\n",
    "df.head()"
   ]
  },
  {
   "cell_type": "code",
   "execution_count": 78,
   "metadata": {},
   "outputs": [],
   "source": [
    "df_z['count'] = df_z['count'].divide(1000)"
   ]
  },
  {
   "cell_type": "code",
   "execution_count": 80,
   "metadata": {},
   "outputs": [
    {
     "data": {
      "text/html": [
       "<div>\n",
       "<style scoped>\n",
       "    .dataframe tbody tr th:only-of-type {\n",
       "        vertical-align: middle;\n",
       "    }\n",
       "\n",
       "    .dataframe tbody tr th {\n",
       "        vertical-align: top;\n",
       "    }\n",
       "\n",
       "    .dataframe thead th {\n",
       "        text-align: right;\n",
       "    }\n",
       "</style>\n",
       "<table border=\"1\" class=\"dataframe\">\n",
       "  <thead>\n",
       "    <tr style=\"text-align: right;\">\n",
       "      <th></th>\n",
       "      <th>name</th>\n",
       "      <th>handedness</th>\n",
       "      <th>height</th>\n",
       "      <th>weight</th>\n",
       "      <th>avg</th>\n",
       "      <th>HR</th>\n",
       "      <th>count</th>\n",
       "    </tr>\n",
       "  </thead>\n",
       "  <tbody>\n",
       "    <tr>\n",
       "      <th>0</th>\n",
       "      <td>Tom Brown</td>\n",
       "      <td>R</td>\n",
       "      <td>0.113773</td>\n",
       "      <td>-0.939622</td>\n",
       "      <td>-1.759290</td>\n",
       "      <td>-0.612428</td>\n",
       "      <td>0.737</td>\n",
       "    </tr>\n",
       "    <tr>\n",
       "      <th>1</th>\n",
       "      <td>Denny Lemaster</td>\n",
       "      <td>R</td>\n",
       "      <td>0.113773</td>\n",
       "      <td>-0.162722</td>\n",
       "      <td>-0.534902</td>\n",
       "      <td>-0.558422</td>\n",
       "      <td>0.737</td>\n",
       "    </tr>\n",
       "    <tr>\n",
       "      <th>2</th>\n",
       "      <td>Jose Cardenal</td>\n",
       "      <td>R</td>\n",
       "      <td>-1.286609</td>\n",
       "      <td>-2.234456</td>\n",
       "      <td>0.830762</td>\n",
       "      <td>1.250797</td>\n",
       "      <td>0.737</td>\n",
       "    </tr>\n",
       "    <tr>\n",
       "      <th>3</th>\n",
       "      <td>Mike Ryan</td>\n",
       "      <td>R</td>\n",
       "      <td>0.580568</td>\n",
       "      <td>1.326338</td>\n",
       "      <td>0.058456</td>\n",
       "      <td>-0.234382</td>\n",
       "      <td>0.737</td>\n",
       "    </tr>\n",
       "    <tr>\n",
       "      <th>4</th>\n",
       "      <td>Dick Bertell</td>\n",
       "      <td>R</td>\n",
       "      <td>-0.353021</td>\n",
       "      <td>1.002629</td>\n",
       "      <td>0.595303</td>\n",
       "      <td>-0.477412</td>\n",
       "      <td>0.737</td>\n",
       "    </tr>\n",
       "  </tbody>\n",
       "</table>\n",
       "</div>"
      ],
      "text/plain": [
       "             name handedness    height    weight       avg        HR  count\n",
       "0       Tom Brown          R  0.113773 -0.939622 -1.759290 -0.612428  0.737\n",
       "1  Denny Lemaster          R  0.113773 -0.162722 -0.534902 -0.558422  0.737\n",
       "2   Jose Cardenal          R -1.286609 -2.234456  0.830762  1.250797  0.737\n",
       "3       Mike Ryan          R  0.580568  1.326338  0.058456 -0.234382  0.737\n",
       "4    Dick Bertell          R -0.353021  1.002629  0.595303 -0.477412  0.737"
      ]
     },
     "execution_count": 80,
     "metadata": {},
     "output_type": "execute_result"
    }
   ],
   "source": [
    "df_z.head()"
   ]
  },
  {
   "cell_type": "code",
   "execution_count": 42,
   "metadata": {},
   "outputs": [],
   "source": [
    "# make reg df long\n",
    "df_long = pd.melt(df, id_vars=['name', 'handedness'],\\\n",
    "               value_vars=['height', 'weight', 'avg', 'HR'],\\\n",
    "               var_name='attribute', value_name='value')"
   ]
  },
  {
   "cell_type": "code",
   "execution_count": 67,
   "metadata": {},
   "outputs": [],
   "source": [
    "# make z-score df long\n",
    "df_z_long = pd.melt(df_z, id_vars=['name', 'handedness'],\\\n",
    "               value_vars=['height', 'weight', 'avg', 'HR'],\\\n",
    "               var_name='attribute', value_name='value')"
   ]
  },
  {
   "cell_type": "code",
   "execution_count": 68,
   "metadata": {},
   "outputs": [],
   "source": [
    "df_z_long = df_z_long.merge(counts, on='handedness')"
   ]
  },
  {
   "cell_type": "code",
   "execution_count": 72,
   "metadata": {},
   "outputs": [
    {
     "data": {
      "text/html": [
       "<div>\n",
       "<style scoped>\n",
       "    .dataframe tbody tr th:only-of-type {\n",
       "        vertical-align: middle;\n",
       "    }\n",
       "\n",
       "    .dataframe tbody tr th {\n",
       "        vertical-align: top;\n",
       "    }\n",
       "\n",
       "    .dataframe thead th {\n",
       "        text-align: right;\n",
       "    }\n",
       "</style>\n",
       "<table border=\"1\" class=\"dataframe\">\n",
       "  <thead>\n",
       "    <tr style=\"text-align: right;\">\n",
       "      <th></th>\n",
       "      <th></th>\n",
       "      <th>value</th>\n",
       "      <th>count</th>\n",
       "    </tr>\n",
       "    <tr>\n",
       "      <th>handedness</th>\n",
       "      <th>attribute</th>\n",
       "      <th></th>\n",
       "      <th></th>\n",
       "    </tr>\n",
       "  </thead>\n",
       "  <tbody>\n",
       "    <tr>\n",
       "      <th rowspan=\"4\" valign=\"top\">B</th>\n",
       "      <th>HR</th>\n",
       "      <td>-0.178428</td>\n",
       "      <td>104</td>\n",
       "    </tr>\n",
       "    <tr>\n",
       "      <th>avg</th>\n",
       "      <td>0.171929</td>\n",
       "      <td>104</td>\n",
       "    </tr>\n",
       "    <tr>\n",
       "      <th>height</th>\n",
       "      <td>-0.344044</td>\n",
       "      <td>104</td>\n",
       "    </tr>\n",
       "    <tr>\n",
       "      <th>weight</th>\n",
       "      <td>-0.457172</td>\n",
       "      <td>104</td>\n",
       "    </tr>\n",
       "    <tr>\n",
       "      <th rowspan=\"4\" valign=\"top\">L</th>\n",
       "      <th>HR</th>\n",
       "      <td>0.145672</td>\n",
       "      <td>316</td>\n",
       "    </tr>\n",
       "    <tr>\n",
       "      <th>avg</th>\n",
       "      <td>0.166886</td>\n",
       "      <td>316</td>\n",
       "    </tr>\n",
       "    <tr>\n",
       "      <th>height</th>\n",
       "      <td>-0.019174</td>\n",
       "      <td>316</td>\n",
       "    </tr>\n",
       "    <tr>\n",
       "      <th>weight</th>\n",
       "      <td>0.039904</td>\n",
       "      <td>316</td>\n",
       "    </tr>\n",
       "    <tr>\n",
       "      <th rowspan=\"4\" valign=\"top\">R</th>\n",
       "      <th>HR</th>\n",
       "      <td>-0.037280</td>\n",
       "      <td>737</td>\n",
       "    </tr>\n",
       "    <tr>\n",
       "      <th>avg</th>\n",
       "      <td>-0.095816</td>\n",
       "      <td>737</td>\n",
       "    </tr>\n",
       "    <tr>\n",
       "      <th>height</th>\n",
       "      <td>0.056770</td>\n",
       "      <td>737</td>\n",
       "    </tr>\n",
       "    <tr>\n",
       "      <th>weight</th>\n",
       "      <td>0.047403</td>\n",
       "      <td>737</td>\n",
       "    </tr>\n",
       "  </tbody>\n",
       "</table>\n",
       "</div>"
      ],
      "text/plain": [
       "                         value  count\n",
       "handedness attribute                 \n",
       "B          HR        -0.178428    104\n",
       "           avg        0.171929    104\n",
       "           height    -0.344044    104\n",
       "           weight    -0.457172    104\n",
       "L          HR         0.145672    316\n",
       "           avg        0.166886    316\n",
       "           height    -0.019174    316\n",
       "           weight     0.039904    316\n",
       "R          HR        -0.037280    737\n",
       "           avg       -0.095816    737\n",
       "           height     0.056770    737\n",
       "           weight     0.047403    737"
      ]
     },
     "execution_count": 72,
     "metadata": {},
     "output_type": "execute_result"
    }
   ],
   "source": [
    "df_z_long.groupby(['handedness', 'attribute']).mean()"
   ]
  },
  {
   "cell_type": "markdown",
   "metadata": {},
   "source": [
    "### Save to csv\n",
    "\n",
    "#### For bubble plots\n",
    "\n",
    "Use a wide df"
   ]
  },
  {
   "cell_type": "code",
   "execution_count": 87,
   "metadata": {},
   "outputs": [],
   "source": [
    "df.to_csv(\"data/baseball_data.csv\", index=False)"
   ]
  },
  {
   "cell_type": "code",
   "execution_count": 82,
   "metadata": {},
   "outputs": [],
   "source": [
    "# for bubble plots\n",
    "df_z.to_csv(\"data/baseball_data_z.csv\", index=False)"
   ]
  },
  {
   "cell_type": "code",
   "execution_count": 85,
   "metadata": {},
   "outputs": [
    {
     "data": {
      "text/html": [
       "<div>\n",
       "<style scoped>\n",
       "    .dataframe tbody tr th:only-of-type {\n",
       "        vertical-align: middle;\n",
       "    }\n",
       "\n",
       "    .dataframe tbody tr th {\n",
       "        vertical-align: top;\n",
       "    }\n",
       "\n",
       "    .dataframe thead th {\n",
       "        text-align: right;\n",
       "    }\n",
       "</style>\n",
       "<table border=\"1\" class=\"dataframe\">\n",
       "  <thead>\n",
       "    <tr style=\"text-align: right;\">\n",
       "      <th></th>\n",
       "      <th>height</th>\n",
       "      <th>weight</th>\n",
       "      <th>avg</th>\n",
       "      <th>HR</th>\n",
       "      <th>count</th>\n",
       "    </tr>\n",
       "    <tr>\n",
       "      <th>handedness</th>\n",
       "      <th></th>\n",
       "      <th></th>\n",
       "      <th></th>\n",
       "      <th></th>\n",
       "      <th></th>\n",
       "    </tr>\n",
       "  </thead>\n",
       "  <tbody>\n",
       "    <tr>\n",
       "      <th>B</th>\n",
       "      <td>-0.344044</td>\n",
       "      <td>-0.457172</td>\n",
       "      <td>0.171929</td>\n",
       "      <td>-0.178428</td>\n",
       "      <td>0.104</td>\n",
       "    </tr>\n",
       "    <tr>\n",
       "      <th>L</th>\n",
       "      <td>-0.019174</td>\n",
       "      <td>0.039904</td>\n",
       "      <td>0.166886</td>\n",
       "      <td>0.145672</td>\n",
       "      <td>0.316</td>\n",
       "    </tr>\n",
       "    <tr>\n",
       "      <th>R</th>\n",
       "      <td>0.056770</td>\n",
       "      <td>0.047403</td>\n",
       "      <td>-0.095816</td>\n",
       "      <td>-0.037280</td>\n",
       "      <td>0.737</td>\n",
       "    </tr>\n",
       "  </tbody>\n",
       "</table>\n",
       "</div>"
      ],
      "text/plain": [
       "              height    weight       avg        HR  count\n",
       "handedness                                               \n",
       "B          -0.344044 -0.457172  0.171929 -0.178428  0.104\n",
       "L          -0.019174  0.039904  0.166886  0.145672  0.316\n",
       "R           0.056770  0.047403 -0.095816 -0.037280  0.737"
      ]
     },
     "execution_count": 85,
     "metadata": {},
     "output_type": "execute_result"
    }
   ],
   "source": [
    "test = pd.read_csv(\"data/baseball_data_z.csv\")\n",
    "test.groupby('handedness').mean()"
   ]
  },
  {
   "cell_type": "code",
   "execution_count": null,
   "metadata": {},
   "outputs": [],
   "source": [
    "#### For bar plots"
   ]
  },
  {
   "cell_type": "code",
   "execution_count": 71,
   "metadata": {},
   "outputs": [],
   "source": [
    "df_z_long.to_csv(\"data/baseball_data_z_long.csv\", index=False)"
   ]
  },
  {
   "cell_type": "code",
   "execution_count": 58,
   "metadata": {},
   "outputs": [
    {
     "data": {
      "text/html": [
       "<div>\n",
       "<style scoped>\n",
       "    .dataframe tbody tr th:only-of-type {\n",
       "        vertical-align: middle;\n",
       "    }\n",
       "\n",
       "    .dataframe tbody tr th {\n",
       "        vertical-align: top;\n",
       "    }\n",
       "\n",
       "    .dataframe thead th {\n",
       "        text-align: right;\n",
       "    }\n",
       "</style>\n",
       "<table border=\"1\" class=\"dataframe\">\n",
       "  <thead>\n",
       "    <tr style=\"text-align: right;\">\n",
       "      <th></th>\n",
       "      <th>name</th>\n",
       "      <th>handedness</th>\n",
       "      <th>height</th>\n",
       "      <th>weight</th>\n",
       "      <th>avg</th>\n",
       "      <th>HR</th>\n",
       "    </tr>\n",
       "  </thead>\n",
       "  <tbody>\n",
       "    <tr>\n",
       "      <th>0</th>\n",
       "      <td>Tom Brown</td>\n",
       "      <td>R</td>\n",
       "      <td>0.113773</td>\n",
       "      <td>-0.939622</td>\n",
       "      <td>-1.759290</td>\n",
       "      <td>-0.612428</td>\n",
       "    </tr>\n",
       "    <tr>\n",
       "      <th>1</th>\n",
       "      <td>Denny Lemaster</td>\n",
       "      <td>R</td>\n",
       "      <td>0.113773</td>\n",
       "      <td>-0.162722</td>\n",
       "      <td>-0.534902</td>\n",
       "      <td>-0.558422</td>\n",
       "    </tr>\n",
       "    <tr>\n",
       "      <th>2</th>\n",
       "      <td>Joe Nolan</td>\n",
       "      <td>L</td>\n",
       "      <td>-0.819815</td>\n",
       "      <td>-0.615913</td>\n",
       "      <td>0.717742</td>\n",
       "      <td>-0.247884</td>\n",
       "    </tr>\n",
       "    <tr>\n",
       "      <th>3</th>\n",
       "      <td>Denny Doyle</td>\n",
       "      <td>L</td>\n",
       "      <td>-1.753403</td>\n",
       "      <td>-0.615913</td>\n",
       "      <td>0.595303</td>\n",
       "      <td>-0.396402</td>\n",
       "    </tr>\n",
       "    <tr>\n",
       "      <th>4</th>\n",
       "      <td>Jose Cardenal</td>\n",
       "      <td>R</td>\n",
       "      <td>-1.286609</td>\n",
       "      <td>-2.234456</td>\n",
       "      <td>0.830762</td>\n",
       "      <td>1.250797</td>\n",
       "    </tr>\n",
       "  </tbody>\n",
       "</table>\n",
       "</div>"
      ],
      "text/plain": [
       "             name handedness    height    weight       avg        HR\n",
       "0       Tom Brown          R  0.113773 -0.939622 -1.759290 -0.612428\n",
       "1  Denny Lemaster          R  0.113773 -0.162722 -0.534902 -0.558422\n",
       "2       Joe Nolan          L -0.819815 -0.615913  0.717742 -0.247884\n",
       "3     Denny Doyle          L -1.753403 -0.615913  0.595303 -0.396402\n",
       "4   Jose Cardenal          R -1.286609 -2.234456  0.830762  1.250797"
      ]
     },
     "execution_count": 58,
     "metadata": {},
     "output_type": "execute_result"
    }
   ],
   "source": [
    "df_long.to_csv(\"data/baseball_data_long.csv\", index=False)"
   ]
  },
  {
   "cell_type": "code",
   "execution_count": null,
   "metadata": {},
   "outputs": [],
   "source": []
  }
 ],
 "metadata": {
  "kernelspec": {
   "display_name": "Python [conda env:DAND]",
   "language": "python",
   "name": "conda-env-DAND-py"
  },
  "language_info": {
   "codemirror_mode": {
    "name": "ipython",
    "version": 2
   },
   "file_extension": ".py",
   "mimetype": "text/x-python",
   "name": "python",
   "nbconvert_exporter": "python",
   "pygments_lexer": "ipython2",
   "version": "2.7.12"
  },
  "toc": {
   "base_numbering": 1,
   "nav_menu": {},
   "number_sections": true,
   "sideBar": true,
   "skip_h1_title": false,
   "title_cell": "",
   "title_sidebar": "Contents",
   "toc_cell": false,
   "toc_position": {},
   "toc_section_display": true,
   "toc_window_display": true
  }
 },
 "nbformat": 4,
 "nbformat_minor": 2
}
